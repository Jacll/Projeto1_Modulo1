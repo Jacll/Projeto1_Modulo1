{
  "nbformat": 4,
  "nbformat_minor": 0,
  "metadata": {
    "colab": {
      "provenance": []
    },
    "kernelspec": {
      "name": "python3",
      "display_name": "Python 3"
    },
    "language_info": {
      "name": "python"
    }
  },
  "cells": [
    {
      "cell_type": "markdown",
      "source": [
        "#Tarefa Prática - 26/02/2025 ♥"
      ],
      "metadata": {
        "id": "OZo59Z5eTFgC"
      }
    },
    {
      "cell_type": "markdown",
      "source": [
        "`Criar uma Calculadora `\n",
        "\n",
        ">*   Utilizando o comando **Input**\n",
        "*   Converter os valores para **inteiro(int)** ou **Flutuante(float)**\n",
        "*   Implementar **4 operadores**\n",
        "*   Incluir **Laço de Repetição** ou **Condicional**\n",
        "*   Utilizar comando **Print**\n",
        "\n",
        "\n"
      ],
      "metadata": {
        "id": "g7CtnI3aTVH0"
      }
    },
    {
      "cell_type": "code",
      "source": [
        "#Iniciando a condição Input\n",
        "\n",
        "nome = input('Digite seu nome:')\n",
        "curso = input('Qual curso esta realizando?')\n",
        "escola = input('Em qual escola estuda?')\n",
        "\n",
        "print(f'Olá, {nome} é um prazer ter você na escola {escola} no curso {curso}. Vamos iniciar sua calculadora. Aproveite sua jornada!')\n",
        "\n",
        "#Utilizando a conversão de valores\n",
        "\n",
        "x = int(input('Digite seu primeiro valor: ')) #valor x atribuido para valor 1\n",
        "operador = input('Digite um operador para realizar a ação (+,-,*,/):')\n",
        "y = int(input('Digite seu segundo valor:')) #valor y atribuido para valor 2\n",
        "\n",
        "#Iniciando condicional + Quatro (4) operadores\n",
        "\n",
        "if operador == '+':\n",
        "  print(f'O valor da sua Soma é: {x+y}')\n",
        "  print('Até a próxima!')\n",
        "elif operador == '-':\n",
        "  print(f'O valor da sua Subtração é: {x-y}')\n",
        "  print('Até a próxima!')\n",
        "elif operador == '*':\n",
        "  print(f'O valor da sua Multiplicação é: {x*y}')\n",
        "  print('Até a próxima!')\n",
        "elif operador == '/':\n",
        "  print(f'O valor da sua Divisão é: {x/y}')\n",
        "  print('Até a próxima!')\n",
        "else:\n",
        "  print('Operador não definido.')\n",
        "  print('Até a próxima!')\n",
        "\n",
        "\n",
        "\n",
        "\n"
      ],
      "metadata": {
        "colab": {
          "base_uri": "https://localhost:8080/"
        },
        "id": "eC4vVSi7ULje",
        "outputId": "edb3acf4-6329-4066-d459-04e153d682b7"
      },
      "execution_count": null,
      "outputs": [
        {
          "output_type": "stream",
          "name": "stdout",
          "text": [
            "Digite seu nome:Jacquelline Rodrigues Silva\n",
            "Qual curso esta realizando?Analista de Dados\n",
            "Em qual escola estuda?EBAC\n",
            "Olá, Jacquelline Rodrigues Silva é um prazer ter você na escola EBAC no curso Analista de Dados. Vamos iniciar sua calculadora. Aproveite sua jornada!\n",
            "Digite seu primeiro valor: 20\n",
            "Digite um operador para realizar a ação (+,-,*,/):+\n",
            "Digite seu segundo valor:20\n",
            "O valor da sua Soma é: 40\n",
            "Até a próxima!\n"
          ]
        }
      ]
    }
  ]
}